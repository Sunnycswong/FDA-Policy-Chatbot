{
 "cells": [
  {
   "cell_type": "code",
   "execution_count": 2,
   "metadata": {},
   "outputs": [
    {
     "name": "stdout",
     "output_type": "stream",
     "text": [
      "Collecting lingua-language-detector\n",
      "  Using cached lingua_language_detector-1.3.2-py3-none-any.whl (86.7 MB)\n",
      "Requirement already satisfied: numpy<2.0.0,>=1.24.1 in c:\\users\\kenny ck wong\\desktop\\project\\business development\\sino presentation\\sino_hr_chatbot\\.venv\\lib\\site-packages (from lingua-language-detector) (1.25.2)\n",
      "Requirement already satisfied: regex<2023.0.0,>=2022.10.31 in c:\\users\\kenny ck wong\\desktop\\project\\business development\\sino presentation\\sino_hr_chatbot\\.venv\\lib\\site-packages (from lingua-language-detector) (2022.10.31)\n",
      "Installing collected packages: lingua-language-detector\n",
      "Successfully installed lingua-language-detector-1.3.2\n",
      "Note: you may need to restart the kernel to use updated packages.\n"
     ]
    }
   ],
   "source": [
    "%pip install lingua-language-detector\n"
   ]
  },
  {
   "cell_type": "code",
   "execution_count": 3,
   "metadata": {},
   "outputs": [
    {
     "data": {
      "text/plain": [
       "Language.CHINESE"
      ]
     },
     "execution_count": 3,
     "metadata": {},
     "output_type": "execute_result"
    }
   ],
   "source": [
    "from lingua import Language, LanguageDetectorBuilder\n",
    "languages = [Language.ENGLISH, Language.CHINESE]\n",
    "detector = LanguageDetectorBuilder.from_languages(*languages).build()\n",
    "detector.detect_language_of(\"何時要供MPF?\")"
   ]
  },
  {
   "cell_type": "code",
   "execution_count": 7,
   "metadata": {},
   "outputs": [
    {
     "name": "stdout",
     "output_type": "stream",
     "text": [
      "Chinese\n"
     ]
    }
   ],
   "source": [
    "if detector.detect_language_of(\"何时要供MPF？\") == Language.CHINESE:\n",
    "    print(\"Chinese\")\n",
    "else:\n",
    "    print(\"English\")"
   ]
  },
  {
   "cell_type": "code",
   "execution_count": 5,
   "metadata": {},
   "outputs": [
    {
     "data": {
      "text/plain": [
       "Language.ENGLISH"
      ]
     },
     "execution_count": 5,
     "metadata": {},
     "output_type": "execute_result"
    }
   ],
   "source": [
    "detector.detect_language_of(\"When do I need to contribute MPF?\")"
   ]
  }
 ],
 "metadata": {
  "kernelspec": {
   "display_name": ".venv",
   "language": "python",
   "name": "python3"
  },
  "language_info": {
   "codemirror_mode": {
    "name": "ipython",
    "version": 3
   },
   "file_extension": ".py",
   "mimetype": "text/x-python",
   "name": "python",
   "nbconvert_exporter": "python",
   "pygments_lexer": "ipython3",
   "version": "3.11.5"
  },
  "orig_nbformat": 4
 },
 "nbformat": 4,
 "nbformat_minor": 2
}
